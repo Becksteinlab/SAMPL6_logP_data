{
 "cells": [
  {
   "cell_type": "markdown",
   "metadata": {},
   "source": [
    "# Create SAMPL6 submission file\n"
   ]
  },
  {
   "cell_type": "code",
   "execution_count": 2,
   "metadata": {},
   "outputs": [],
   "source": [
    "import pandas as pd"
   ]
  },
  {
   "cell_type": "markdown",
   "metadata": {},
   "source": [
    "## Download data\n",
    "\n",
    "Download the spreadsheet from https://docs.google.com/spreadsheets/d/REMOVED as CSV file"
   ]
  },
  {
   "cell_type": "code",
   "execution_count": 1,
   "metadata": {},
   "outputs": [],
   "source": [
    "datafile = \"./SAMPL6.csv\""
   ]
  },
  {
   "cell_type": "markdown",
   "metadata": {},
   "source": [
    "## Write output "
   ]
  },
  {
   "cell_type": "code",
   "execution_count": 21,
   "metadata": {},
   "outputs": [],
   "source": [
    "df = pd.read_csv(datafile)\n",
    "df.insert(len(df.columns), 'model_uncertainty', 1.2)"
   ]
  },
  {
   "cell_type": "code",
   "execution_count": 22,
   "metadata": {},
   "outputs": [
    {
     "data": {
      "text/html": [
       "<div>\n",
       "<style scoped>\n",
       "    .dataframe tbody tr th:only-of-type {\n",
       "        vertical-align: middle;\n",
       "    }\n",
       "\n",
       "    .dataframe tbody tr th {\n",
       "        vertical-align: top;\n",
       "    }\n",
       "\n",
       "    .dataframe thead th {\n",
       "        text-align: right;\n",
       "    }\n",
       "</style>\n",
       "<table border=\"1\" class=\"dataframe\">\n",
       "  <thead>\n",
       "    <tr style=\"text-align: right;\">\n",
       "      <th></th>\n",
       "      <th>ID</th>\n",
       "      <th>forcefield</th>\n",
       "      <th>DGwater</th>\n",
       "      <th>errDGwater</th>\n",
       "      <th>DGoct_dry</th>\n",
       "      <th>errDGoct_dry</th>\n",
       "      <th>DGoct_wet</th>\n",
       "      <th>errDGoct_wet</th>\n",
       "      <th>DDGwod</th>\n",
       "      <th>errDDGwod</th>\n",
       "      <th>logPwod</th>\n",
       "      <th>errlogPwod</th>\n",
       "      <th>DDGwow</th>\n",
       "      <th>errDDGwow</th>\n",
       "      <th>logPwow</th>\n",
       "      <th>errlogPwow</th>\n",
       "      <th>model_uncertainty</th>\n",
       "    </tr>\n",
       "  </thead>\n",
       "  <tbody>\n",
       "    <tr>\n",
       "      <th>0</th>\n",
       "      <td>SM02</td>\n",
       "      <td>AMBER</td>\n",
       "      <td>-33.58</td>\n",
       "      <td>0.49</td>\n",
       "      <td>-64.16</td>\n",
       "      <td>1.58</td>\n",
       "      <td>-64.66</td>\n",
       "      <td>1.35</td>\n",
       "      <td>30.58</td>\n",
       "      <td>1.65</td>\n",
       "      <td>5.32</td>\n",
       "      <td>0.29</td>\n",
       "      <td>31.08</td>\n",
       "      <td>1.44</td>\n",
       "      <td>5.41</td>\n",
       "      <td>0.25</td>\n",
       "      <td>1.2</td>\n",
       "    </tr>\n",
       "    <tr>\n",
       "      <th>1</th>\n",
       "      <td>SM02</td>\n",
       "      <td>LigParGen</td>\n",
       "      <td>-37.63</td>\n",
       "      <td>1.21</td>\n",
       "      <td>-72.17</td>\n",
       "      <td>1.93</td>\n",
       "      <td>-73.60</td>\n",
       "      <td>2.32</td>\n",
       "      <td>34.54</td>\n",
       "      <td>2.28</td>\n",
       "      <td>6.01</td>\n",
       "      <td>0.40</td>\n",
       "      <td>35.97</td>\n",
       "      <td>2.62</td>\n",
       "      <td>6.26</td>\n",
       "      <td>0.46</td>\n",
       "      <td>1.2</td>\n",
       "    </tr>\n",
       "    <tr>\n",
       "      <th>2</th>\n",
       "      <td>SM02</td>\n",
       "      <td>OPLSAA</td>\n",
       "      <td>-31.03</td>\n",
       "      <td>0.42</td>\n",
       "      <td>-63.68</td>\n",
       "      <td>1.66</td>\n",
       "      <td>-64.01</td>\n",
       "      <td>1.25</td>\n",
       "      <td>32.65</td>\n",
       "      <td>1.71</td>\n",
       "      <td>5.69</td>\n",
       "      <td>0.30</td>\n",
       "      <td>32.98</td>\n",
       "      <td>1.32</td>\n",
       "      <td>5.74</td>\n",
       "      <td>0.23</td>\n",
       "      <td>1.2</td>\n",
       "    </tr>\n",
       "    <tr>\n",
       "      <th>3</th>\n",
       "      <td>SM02</td>\n",
       "      <td>CHARMM</td>\n",
       "      <td>NaN</td>\n",
       "      <td>NaN</td>\n",
       "      <td>NaN</td>\n",
       "      <td>NaN</td>\n",
       "      <td>NaN</td>\n",
       "      <td>NaN</td>\n",
       "      <td>0.00</td>\n",
       "      <td>0.00</td>\n",
       "      <td>0.00</td>\n",
       "      <td>0.00</td>\n",
       "      <td>0.00</td>\n",
       "      <td>0.00</td>\n",
       "      <td>0.00</td>\n",
       "      <td>0.00</td>\n",
       "      <td>1.2</td>\n",
       "    </tr>\n",
       "    <tr>\n",
       "      <th>4</th>\n",
       "      <td>SM04</td>\n",
       "      <td>AMBER</td>\n",
       "      <td>-37.34</td>\n",
       "      <td>0.39</td>\n",
       "      <td>-71.20</td>\n",
       "      <td>1.50</td>\n",
       "      <td>-71.66</td>\n",
       "      <td>1.26</td>\n",
       "      <td>33.86</td>\n",
       "      <td>1.55</td>\n",
       "      <td>5.90</td>\n",
       "      <td>0.27</td>\n",
       "      <td>34.32</td>\n",
       "      <td>1.32</td>\n",
       "      <td>5.98</td>\n",
       "      <td>0.23</td>\n",
       "      <td>1.2</td>\n",
       "    </tr>\n",
       "  </tbody>\n",
       "</table>\n",
       "</div>"
      ],
      "text/plain": [
       "     ID forcefield  DGwater  errDGwater  DGoct_dry  errDGoct_dry  DGoct_wet  \\\n",
       "0  SM02      AMBER   -33.58        0.49     -64.16          1.58     -64.66   \n",
       "1  SM02  LigParGen   -37.63        1.21     -72.17          1.93     -73.60   \n",
       "2  SM02     OPLSAA   -31.03        0.42     -63.68          1.66     -64.01   \n",
       "3  SM02     CHARMM      NaN         NaN        NaN           NaN        NaN   \n",
       "4  SM04      AMBER   -37.34        0.39     -71.20          1.50     -71.66   \n",
       "\n",
       "   errDGoct_wet  DDGwod  errDDGwod  logPwod  errlogPwod  DDGwow  errDDGwow  \\\n",
       "0          1.35   30.58       1.65     5.32        0.29   31.08       1.44   \n",
       "1          2.32   34.54       2.28     6.01        0.40   35.97       2.62   \n",
       "2          1.25   32.65       1.71     5.69        0.30   32.98       1.32   \n",
       "3           NaN    0.00       0.00     0.00        0.00    0.00       0.00   \n",
       "4          1.26   33.86       1.55     5.90        0.27   34.32       1.32   \n",
       "\n",
       "   logPwow  errlogPwow  model_uncertainty  \n",
       "0     5.41        0.25                1.2  \n",
       "1     6.26        0.46                1.2  \n",
       "2     5.74        0.23                1.2  \n",
       "3     0.00        0.00                1.2  \n",
       "4     5.98        0.23                1.2  "
      ]
     },
     "execution_count": 22,
     "metadata": {},
     "output_type": "execute_result"
    }
   ],
   "source": [
    "df.head()"
   ]
  },
  {
   "cell_type": "code",
   "execution_count": 10,
   "metadata": {},
   "outputs": [],
   "source": [
    "import sampl6 as s6"
   ]
  },
  {
   "cell_type": "code",
   "execution_count": 46,
   "metadata": {},
   "outputs": [
    {
     "data": {
      "text/plain": [
       "<module 'sampl6' from '/Volumes/Data/oliver/Biop/Projects/Methods/SAMPL6_logP/03_prep_submission/sampl6.py'>"
      ]
     },
     "execution_count": 46,
     "metadata": {},
     "output_type": "execute_result"
    }
   ],
   "source": [
    "from importlib import reload\n",
    "reload(s6)"
   ]
  },
  {
   "cell_type": "code",
   "execution_count": 47,
   "metadata": {},
   "outputs": [],
   "source": [
    "method_name, software, data = s6.collect_data(df, \"AMBER\")"
   ]
  },
  {
   "cell_type": "code",
   "execution_count": 48,
   "metadata": {},
   "outputs": [
    {
     "name": "stdout",
     "output_type": "stream",
     "text": [
      "# PARTITION COEFFICIENT PREDICTIONS\n",
      "#\n",
      "\n",
      "# PREDICTION SECTION\n",
      "#\n",
      "# # Molecule ID, logP, logP SEM, logP model uncertainty\n",
      "Predictions:\n",
      "SM02,5.32,0.29,1.2\n",
      "SM04,5.9,0.27,1.2\n",
      "SM07,4.8,0.41,1.2\n",
      "SM08,5.88,0.4,1.2\n",
      "SM09,3.97,0.33,1.2\n",
      "SM11,2.25,0.27,1.2\n",
      "SM12,5.16,0.26,1.2\n",
      "SM13,5.95,0.47,1.2\n",
      "SM14,2.53,0.26,1.2\n",
      "SM15,2.99,0.21,1.2\n",
      "SM16,4.58,0.36,1.2\n",
      "\n",
      "# NAME SECTION\n",
      "#\n",
      "# Please provide an informal yet informative name of the method used.\n",
      "Name:\n",
      "MD-AMBER-dryoct\n",
      "# SOFTWARE SECTION\n",
      "#\n",
      "# All major software packages used and their versions.\n",
      "Software:\n",
      "Gromacs 2018.2\n",
      "MDPOW 0.7.0-dev\n",
      "AmberTools\n",
      "ACPYPE 0 (2017)\n",
      "\n",
      "# METHOD CATEGORY SECTION\n",
      "#\n",
      "Category:\n",
      "Physical\n",
      "\n",
      "# METHOD DESCRIPTION SECTION\n",
      "#\n",
      "# Methodology and computational details.\n",
      "Method:\n",
      "Alchemical free energy calculations were performed in explicit\n",
      "solvent, following the protocol described in [1].  We used either\n",
      "\"dry\" octanol (water content 0 mol %) or \"wet\" octanol (27 mol %)\n",
      "Parameters were generated (1) with the LigParGen server for\n",
      "OPLSAA_LigPar, (2) with the mol2ff software for OPLSAA (see also [1]),\n",
      "(3) ParamChem for CHARMM (CGENFF), and (4) AmberTools (Antechamber)\n",
      "and ACPYPE for AMBER (GAFF). Files were prepared for Gromacs 2018.\n",
      "Note that the latest version of ParamChem produces lone pairs, which\n",
      "are not yet supported in the conversion scripts from CHARMM to Gromacs\n",
      "and a prediction of 0±10 is provided for these cases. The alchemical\n",
      "data were analyzed with thermodynamic integration. Errors are reported\n",
      "as errors of the mean (see [1]). The model uncertainty was estimated\n",
      "on the basis of an unpublished data set of 92 compounds for which we\n",
      "computed errors for solvation free energies in water and octanol.  [1]\n",
      "I. M. Kenney, O. Beckstein, and B. I. Iorga. Prediction of\n",
      "cyclohexane-water distribution coefficients for the SAMPL5 data set\n",
      "using molecular dynamics simulations with the OPLS-AA force field. J\n",
      "Comput Aided Mol Des, 30(11):1045–1058, 2016.\n"
     ]
    }
   ],
   "source": [
    "print(s6.format_sampl6_submission(data, method_name, software))"
   ]
  },
  {
   "cell_type": "code",
   "execution_count": null,
   "metadata": {},
   "outputs": [],
   "source": []
  }
 ],
 "metadata": {
  "kernelspec": {
   "display_name": "Python 3",
   "language": "python",
   "name": "python3"
  },
  "language_info": {
   "codemirror_mode": {
    "name": "ipython",
    "version": 3
   },
   "file_extension": ".py",
   "mimetype": "text/x-python",
   "name": "python",
   "nbconvert_exporter": "python",
   "pygments_lexer": "ipython3",
   "version": "3.6.7"
  }
 },
 "nbformat": 4,
 "nbformat_minor": 2
}
